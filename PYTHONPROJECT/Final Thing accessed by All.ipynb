{
 "cells": [
  {
   "cell_type": "code",
   "execution_count": 2,
   "id": "a9376945",
   "metadata": {},
   "outputs": [],
   "source": [
    "from joblib import dump, load\n",
    "model = load('Predictor.joblib')"
   ]
  },
  {
   "cell_type": "code",
   "execution_count": 3,
   "id": "afbffccc",
   "metadata": {},
   "outputs": [
    {
     "data": {
      "text/plain": [
       "array([19.906])"
      ]
     },
     "execution_count": 3,
     "metadata": {},
     "output_type": "execute_result"
    }
   ],
   "source": [
    "import numpy as np\n",
    "x = np.array([[-0.54613254,  1.22474487, -0.72437731,  0.        , -1.24995952,\n",
    "        -1.56482553, -0.63315717,  1.28708093, -0.8260802 , -0.34670673,\n",
    "        -1.39707095, -0.77512458, -0.46346653]])\n",
    "model.predict(x)"
   ]
  },
  {
   "cell_type": "code",
   "execution_count": null,
   "id": "fef2aae8",
   "metadata": {},
   "outputs": [],
   "source": []
  }
 ],
 "metadata": {
  "kernelspec": {
   "display_name": "Python 3 (ipykernel)",
   "language": "python",
   "name": "python3"
  },
  "language_info": {
   "codemirror_mode": {
    "name": "ipython",
    "version": 3
   },
   "file_extension": ".py",
   "mimetype": "text/x-python",
   "name": "python",
   "nbconvert_exporter": "python",
   "pygments_lexer": "ipython3",
   "version": "3.9.5"
  }
 },
 "nbformat": 4,
 "nbformat_minor": 5
}
